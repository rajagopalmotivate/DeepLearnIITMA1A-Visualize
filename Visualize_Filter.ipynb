{
  "nbformat": 4,
  "nbformat_minor": 0,
  "metadata": {
    "colab": {
      "name": "Visualize Filter",
      "version": "0.3.2",
      "provenance": [],
      "include_colab_link": true
    },
    "kernelspec": {
      "name": "python3",
      "display_name": "Python 3"
    },
    "accelerator": "GPU"
  },
  "cells": [
    {
      "cell_type": "markdown",
      "metadata": {
        "id": "view-in-github",
        "colab_type": "text"
      },
      "source": [
        "[View in Colaboratory](https://colab.research.google.com/github/rajagopalmotivate/DeepLearnIITMA1A-Visualize/blob/master/Visualize_Filter.ipynb)"
      ]
    },
    {
      "metadata": {
        "id": "KDBG6uwHxWAq",
        "colab_type": "code",
        "colab": {
          "base_uri": "https://localhost:8080/",
          "height": 50
        },
        "outputId": "504ea425-c54c-4abc-e769-0b8a4ca39aa8"
      },
      "cell_type": "code",
      "source": [
        "!wget \"https://github.com/rajagopalmotivate/DeepLearnIITMA1A-Visualize/raw/master/cifar_1B_softmax_model9021s.h5\""
      ],
      "execution_count": 1,
      "outputs": [
        {
          "output_type": "stream",
          "text": [
            "\n",
            "Redirecting output to ‘wget-log’.\n"
          ],
          "name": "stdout"
        }
      ]
    },
    {
      "metadata": {
        "id": "1KEkgr6Dt7CH",
        "colab_type": "code",
        "colab": {
          "base_uri": "https://localhost:8080/",
          "height": 33
        },
        "outputId": "85321ab1-22da-4dc2-a04d-1db8c4e7e656"
      },
      "cell_type": "code",
      "source": [
        "from keras import backend as K\n"
      ],
      "execution_count": 2,
      "outputs": [
        {
          "output_type": "stream",
          "text": [
            "Using TensorFlow backend.\n"
          ],
          "name": "stderr"
        }
      ]
    },
    {
      "metadata": {
        "id": "TILhPwzruEr-",
        "colab_type": "code",
        "colab": {}
      },
      "cell_type": "code",
      "source": [
        "import tensorflow as tf\n",
        "from keras import Input\n",
        "from keras import layers\n",
        "from keras import datasets\n",
        "import numpy as np\n",
        "from keras import utils\n",
        "from keras.models import  Model\n",
        "from keras.utils import plot_model\n",
        "import keras\n",
        "import os\n",
        "from keras.callbacks import TensorBoard, ModelCheckpoint, EarlyStopping\n",
        "from keras.models import model_from_json\n",
        "\n",
        "from sklearn.metrics import classification_report\n",
        "from decimal import Decimal\n",
        "import  matplotlib.pyplot as plt\n",
        "from scipy.misc import toimage\n",
        "from keras.preprocessing.image import ImageDataGenerator\n",
        "import copy\n",
        "import numpy as np\n",
        "\n",
        "import math as maths\n",
        "import matplotlib.pyplot as plt\n",
        "from keras.models import load_model\n"
      ],
      "execution_count": 0,
      "outputs": []
    },
    {
      "metadata": {
        "id": "MkcjyLzYuIaW",
        "colab_type": "code",
        "colab": {
          "base_uri": "https://localhost:8080/",
          "height": 278
        },
        "outputId": "05af0fcb-a83d-47a5-e1ac-e18949c012a2"
      },
      "cell_type": "code",
      "source": [
        "myloadedmodeloriginal  = load_model('cifar_1B_softmax_model9021s.h5')\n"
      ],
      "execution_count": 5,
      "outputs": [
        {
          "output_type": "error",
          "ename": "ValueError",
          "evalue": "ignored",
          "traceback": [
            "\u001b[0;31m---------------------------------------------------------------------------\u001b[0m",
            "\u001b[0;31mValueError\u001b[0m                                Traceback (most recent call last)",
            "\u001b[0;32m<ipython-input-5-b152583dcba7>\u001b[0m in \u001b[0;36m<module>\u001b[0;34m()\u001b[0m\n\u001b[0;32m----> 1\u001b[0;31m \u001b[0mmyloadedmodeloriginal\u001b[0m  \u001b[0;34m=\u001b[0m \u001b[0mload_model\u001b[0m\u001b[0;34m(\u001b[0m\u001b[0;34m'cifar_1B_softmax_model9021s.h5'\u001b[0m\u001b[0;34m)\u001b[0m\u001b[0;34m\u001b[0m\u001b[0m\n\u001b[0m",
            "\u001b[0;32m/usr/local/lib/python3.6/dist-packages/keras/models.py\u001b[0m in \u001b[0;36mload_model\u001b[0;34m(filepath, custom_objects, compile)\u001b[0m\n\u001b[1;32m    266\u001b[0m         \u001b[0mmodel_config\u001b[0m \u001b[0;34m=\u001b[0m \u001b[0mf\u001b[0m\u001b[0;34m.\u001b[0m\u001b[0mattrs\u001b[0m\u001b[0;34m.\u001b[0m\u001b[0mget\u001b[0m\u001b[0;34m(\u001b[0m\u001b[0;34m'model_config'\u001b[0m\u001b[0;34m)\u001b[0m\u001b[0;34m\u001b[0m\u001b[0m\n\u001b[1;32m    267\u001b[0m         \u001b[0;32mif\u001b[0m \u001b[0mmodel_config\u001b[0m \u001b[0;32mis\u001b[0m \u001b[0;32mNone\u001b[0m\u001b[0;34m:\u001b[0m\u001b[0;34m\u001b[0m\u001b[0m\n\u001b[0;32m--> 268\u001b[0;31m             \u001b[0;32mraise\u001b[0m \u001b[0mValueError\u001b[0m\u001b[0;34m(\u001b[0m\u001b[0;34m'No model found in config file.'\u001b[0m\u001b[0;34m)\u001b[0m\u001b[0;34m\u001b[0m\u001b[0m\n\u001b[0m\u001b[1;32m    269\u001b[0m         \u001b[0mmodel_config\u001b[0m \u001b[0;34m=\u001b[0m \u001b[0mjson\u001b[0m\u001b[0;34m.\u001b[0m\u001b[0mloads\u001b[0m\u001b[0;34m(\u001b[0m\u001b[0mmodel_config\u001b[0m\u001b[0;34m.\u001b[0m\u001b[0mdecode\u001b[0m\u001b[0;34m(\u001b[0m\u001b[0;34m'utf-8'\u001b[0m\u001b[0;34m)\u001b[0m\u001b[0;34m)\u001b[0m\u001b[0;34m\u001b[0m\u001b[0m\n\u001b[1;32m    270\u001b[0m         \u001b[0mmodel\u001b[0m \u001b[0;34m=\u001b[0m \u001b[0mmodel_from_config\u001b[0m\u001b[0;34m(\u001b[0m\u001b[0mmodel_config\u001b[0m\u001b[0;34m,\u001b[0m \u001b[0mcustom_objects\u001b[0m\u001b[0;34m=\u001b[0m\u001b[0mcustom_objects\u001b[0m\u001b[0;34m)\u001b[0m\u001b[0;34m\u001b[0m\u001b[0m\n",
            "\u001b[0;31mValueError\u001b[0m: No model found in config file."
          ]
        }
      ]
    },
    {
      "metadata": {
        "id": "NWhOd0aLydxh",
        "colab_type": "code",
        "colab": {}
      },
      "cell_type": "code",
      "source": [
        "#Find insights about a network such as how deep is the network, memorizationcapacity, generalizationcapacity, noofCNNs, kernalsize, amountofnonlinearity\n",
        "def extractNetworkInsights(anetwork, verbose=0):\n",
        "    #print('Analzing the Network insights')\n",
        "    layercount = 0\n",
        "    layercountCNN = 0\n",
        "    for alayer in anetwork.layers:\n",
        "      layercount = layercount + 1\n",
        "      aconfig = alayer.get_config()\n",
        "      if (verbose==0):\n",
        "        print(str(aconfig) )\n",
        "      if (verbose==1):  \n",
        "        if 'CNN' in str(aconfig.get(\"name\")):\n",
        "          layercountCNN = layercountCNN + 1 \n",
        "          print( str(layercount) + '   ' + str(aconfig.get(\"name\") +  '   Filters=' + str(aconfig.get(\"filters\") )))\n",
        "        elif ('Pool' in str(aconfig.get(\"name\"))):\n",
        "          print( str(layercount) + '   ' + str(aconfig.get(\"name\") +  '   PoolSize=' + str(aconfig.get(\"pool_size\") )))\n",
        "        elif 'dropout' in aconfig.get(\"name\"):\n",
        "          print( str(layercount) + '   ' + str(aconfig.get(\"name\") +  '   Rate=' + str(aconfig.get(\"rate\") )))\n",
        "        elif 'Dense' in aconfig.get(\"name\"):\n",
        "          print( str(layercount) + '   ' + str(aconfig.get(\"name\") +  '   Units=' + str(aconfig.get(\"units\") )) )         \n",
        "        else:\n",
        "          print( str(layercount) + '   ' + str(aconfig.get(\"name\")))\n",
        "    return str(layercountCNN) + ' CNN layers'"
      ],
      "execution_count": 0,
      "outputs": []
    },
    {
      "metadata": {
        "id": "IxKfUmf9yngz",
        "colab_type": "code",
        "colab": {}
      },
      "cell_type": "code",
      "source": [
        "extractNetworkInsights(myloadedmodeloriginal, verbose=1)"
      ],
      "execution_count": 0,
      "outputs": []
    },
    {
      "metadata": {
        "id": "uxbq2V1syM1b",
        "colab_type": "code",
        "colab": {}
      },
      "cell_type": "code",
      "source": [
        "import pandas\n",
        "from pandas import DataFrame\n",
        "import numpy as np\n",
        "import pylab as pl\n",
        "import matplotlib.pyplot as plt\n",
        "import matplotlib.cm as mpcm\n",
        "from keras import backend as K\n",
        "from keras import models"
      ],
      "execution_count": 0,
      "outputs": []
    },
    {
      "metadata": {
        "id": "hpXBOUYQyTZc",
        "colab_type": "code",
        "colab": {}
      },
      "cell_type": "code",
      "source": [
        ""
      ],
      "execution_count": 0,
      "outputs": []
    },
    {
      "metadata": {
        "id": "u14VKwagyTuA",
        "colab_type": "code",
        "colab": {}
      },
      "cell_type": "code",
      "source": [
        "(xtrain1, ytrain1), (xtest, ytest) = datasets.cifar10.load_data()\n",
        "labelsnames =  ['airplane','automobile','bird','cat','deer','dog','frog','horse','ship','truck']\n"
      ],
      "execution_count": 0,
      "outputs": []
    },
    {
      "metadata": {
        "id": "9BV4ldssyT7A",
        "colab_type": "code",
        "colab": {}
      },
      "cell_type": "code",
      "source": [
        "def plotAllFeatureResponsesForaImageByaLayer(myloadedmodel, myimage , layerno):\n",
        "    imgtensor = myimage.copy()\n",
        "    imgtensor = np.expand_dims(imgtensor, axis=0)\n",
        "    imgtensor = imgtensor * 1.0/255.0\n",
        "  #  plt.imshow(imgtensor[0])\n",
        "    nooflayersinthemodel = len(myloadedmodel.layers)\n",
        "    mylayeroutputs = [layer.output for layer in myloadedmodel.layers[:nooflayersinthemodel]]\n",
        "    myactivationmodel = models.Model(inputs=myloadedmodel.input, outputs = mylayeroutputs)\n",
        "    myactivations = myactivationmodel.predict(imgtensor)\n",
        "    for layeriterate in range(layerno-4 , layerno + 1):\n",
        "        if(((layerno + 1 -layeriterate) > 0) & (layeriterate>=0)):\n",
        "            print( str(layeriterate) + '  :' + str(myloadedmodel.layers[layeriterate].name))\n",
        "    firstlayeractivation =myactivations[layerno]\n",
        "    print('Layer no '+ str(layerno) + ' of ' + str(nooflayersinthemodel) + ' layer model has ' + str(firstlayeractivation.shape[3]) + ' filters. Here is the feature response for these filters for this input image')\n",
        "    nooffilters = firstlayeractivation.shape[3]\n",
        "    plotrows = int( maths.sqrt(nooffilters) )\n",
        "    plotrows = plotrows + 1\n",
        "    \n",
        "    fig=plt.figure(figsize=(16, 16))\n",
        "    for i in range(firstlayeractivation.shape[3]):\n",
        "        fig.add_subplot(plotrows, plotrows, i+1)\n",
        "        plt.imshow(firstlayeractivation[0,:,:,i])\n",
        "        plt.title(str(i), color='C5')\n",
        "        plt.axis('off')\n",
        "    plt.show()\n",
        "\n",
        "\n",
        "    #plt.matshow(firstlayeractivation[0,:,:,1])"
      ],
      "execution_count": 0,
      "outputs": []
    },
    {
      "metadata": {
        "id": "YslfAwROyUWt",
        "colab_type": "code",
        "colab": {}
      },
      "cell_type": "code",
      "source": [
        "def islabelmatchDirectlybyLabel(thisloadedmodel, labelno, myunnormalizedimage):\n",
        "    ismatched = False\n",
        "    myimageJ2 = myunnormalizedimage.copy()\n",
        "    myimageJnormalized2 = myimageJ2.astype('float16') * 1/255\n",
        "    imageforprediction2 = np.expand_dims(myimageJnormalized2, axis=0)\n",
        "    result2 = thisloadedmodel.predict(imageforprediction2, batch_size=1)\n",
        "    y_classes2 = result2.argmax(axis=-1)  \n",
        "    predictedlabel2 = y_classes2[0]\n",
        "    #print(predictedlabel2)\n",
        "    if(predictedlabel2 == labelno):\n",
        "        ismatched = True\n",
        "    return ismatched "
      ],
      "execution_count": 0,
      "outputs": []
    },
    {
      "metadata": {
        "id": "laDehaXGyUUP",
        "colab_type": "code",
        "colab": {}
      },
      "cell_type": "code",
      "source": [
        "def SearchByLabelFeatureResponsesForaImageSetForaFilterInaLayer(myloadedmodel, labelno, imagedataset, imagestartindex , batchsize, layerno, filterno):\n",
        "\n",
        "    nooflayersinthemodel = len(myloadedmodel.layers)\n",
        "    mylayeroutputs = [layer.output for layer in myloadedmodel.layers[:nooflayersinthemodel]]\n",
        "    myactivationmodel = models.Model(inputs=myloadedmodel.input, outputs = mylayeroutputs)\n",
        "    plotimagecount = 1\n",
        "    \n",
        "    \n",
        "    fig=plt.figure(figsize=(16, 16))\n",
        "    for i in range(batchsize-4):\n",
        "        imgtensor = imagedataset[imagestartindex+i].copy()\n",
        "        ismatching = islabelmatchDirectlybyLabel(myloadedmodel, labelno, imgtensor)\n",
        "        if(ismatching==True):\n",
        "            imgtensor = np.expand_dims(imgtensor, axis=0)\n",
        "            imgtensor = imgtensor * 1.0/255.0\n",
        "            fig.add_subplot(16, 16, plotimagecount)\n",
        "            plt.imshow(imgtensor[0])\n",
        "            plt.axis('off')\n",
        "            myactivations = myactivationmodel.predict(imgtensor)\n",
        "            firstlayeractivation =myactivations[layerno]\n",
        "            fig.add_subplot(16, 16, plotimagecount+1)\n",
        "            plt.imshow(firstlayeractivation[0,:,:,filterno])\n",
        "            plt.axis('off')\n",
        "            plotimagecount = plotimagecount +2 \n",
        "            if (plotimagecount >= 16*16):\n",
        "                break\n",
        "    plt.show()\n"
      ],
      "execution_count": 0,
      "outputs": []
    },
    {
      "metadata": {
        "id": "ftD4rSrHyURZ",
        "colab_type": "code",
        "colab": {}
      },
      "cell_type": "code",
      "source": [
        "def FindimagesthatresponsmosttothisFilter(myloadedmodel, labelno, imagedataset, imagestartindex , batchsize, layerno, filterno):\n",
        "\n",
        "    nooflayersinthemodel = len(myloadedmodel.layers)\n",
        "    mylayeroutputs = [layer.output for layer in myloadedmodel.layers[:nooflayersinthemodel]]\n",
        "    myactivationmodel = models.Model(inputs=myloadedmodel.input, outputs = mylayeroutputs)\n",
        "    plotimagecount = 1\n",
        "    \n",
        "    mylist = list()\n",
        "    \n",
        "    fig=plt.figure(figsize=(16, 16))\n",
        "    for i in range(batchsize-4):\n",
        "        imgtensor = imagedataset[imagestartindex+i].copy()\n",
        "        ismatching = islabelmatchDirectlybyLabel(myloadedmodel, labelno, imgtensor)\n",
        "        ismatching = True\n",
        "        if(ismatching==True):\n",
        "            imgtensor = np.expand_dims(imgtensor, axis=0)\n",
        "            imgtensor = imgtensor * 1.0/255.0\n",
        "            fig.add_subplot(16, 16, plotimagecount)\n",
        "            plt.imshow(imgtensor[0])\n",
        "            plt.axis('off')\n",
        "            myactivations = myactivationmodel.predict(imgtensor)\n",
        "            firstlayeractivation =myactivations[layerno]\n",
        "            fig.add_subplot(16, 16, plotimagecount+1)\n",
        "            plt.imshow(firstlayeractivation[0,:,:,filterno])\n",
        "            myactivationfeaturemap = firstlayeractivation[0,:,:,filterno]\n",
        "            myactivationlevel = myactivationfeaturemap.mean()\n",
        "            myactivationlevel = (myactivationlevel * 100).round(2)\n",
        "            \n",
        "            elem = (imagestartindex+i, myactivationlevel)\n",
        "            mylist.append(elem)\n",
        "            #print(myactivationlevel)\n",
        "            plt.axis('off')\n",
        "            plotimagecount = plotimagecount +2 \n",
        "            if (plotimagecount >= 16*16-1):\n",
        "                    plotimagecount = 1\n",
        "\n",
        "    plt.show()\n",
        "\n",
        "    return mylist"
      ],
      "execution_count": 0,
      "outputs": []
    },
    {
      "metadata": {
        "id": "n3ZFfsYJyUOl",
        "colab_type": "code",
        "colab": {}
      },
      "cell_type": "code",
      "source": [
        "def Showimages(myloadedmodel, imagedataset, mylistofimages , layerno, filterno):\n",
        "\n",
        "    nooflayersinthemodel = len(myloadedmodel.layers)\n",
        "    mylayeroutputs = [layer.output for layer in myloadedmodel.layers[:nooflayersinthemodel]]\n",
        "    myactivationmodel = models.Model(inputs=myloadedmodel.input, outputs = mylayeroutputs)\n",
        "    plotimagecount = 1\n",
        "    \n",
        "    \n",
        "    fig=plt.figure(figsize=(16, 16))\n",
        "    for i in range(len(mylistofimages)):\n",
        "        imageindex = mylistofimages[i][0]\n",
        "        imgtensor = imagedataset[imageindex].copy()\n",
        "        imgtensor = np.expand_dims(imgtensor, axis=0)\n",
        "        imgtensor = imgtensor * 1.0/255.0\n",
        "        fig.add_subplot(10, 10, plotimagecount)\n",
        "        plt.imshow(imgtensor[0])\n",
        "        plt.axis('off')\n",
        "        myactivations = myactivationmodel.predict(imgtensor)\n",
        "        firstlayeractivation =myactivations[layerno]\n",
        "        fig.add_subplot(10, 10, plotimagecount+1)\n",
        "        plt.imshow(firstlayeractivation[0,:,:,filterno])\n",
        "        plt.axis('off')\n",
        "        plotimagecount = plotimagecount +2 \n",
        "        if (plotimagecount >= 10*10):\n",
        "            break\n",
        "    plt.show()"
      ],
      "execution_count": 0,
      "outputs": []
    },
    {
      "metadata": {
        "id": "q1qBSRMsyULD",
        "colab_type": "code",
        "colab": {}
      },
      "cell_type": "code",
      "source": [
        "from operator import itemgetter, attrgetter\n",
        "\n",
        "mylist = FindimagesthatresponsmosttothisFilter(myloadedmodeloriginal, 1, xtest, 10, 2000, 15, 43)\n",
        "sortedlist = sorted(mylist, key=itemgetter(1), reverse=True)\n"
      ],
      "execution_count": 0,
      "outputs": []
    },
    {
      "metadata": {
        "id": "6jOPTY8fyUGy",
        "colab_type": "code",
        "colab": {}
      },
      "cell_type": "code",
      "source": [
        "Showimages(myloadedmodeloriginal, xtest, sortedlist , 15, 43)\n"
      ],
      "execution_count": 0,
      "outputs": []
    },
    {
      "metadata": {
        "id": "RrVD2GxtyT4E",
        "colab_type": "code",
        "colab": {}
      },
      "cell_type": "code",
      "source": [
        ""
      ],
      "execution_count": 0,
      "outputs": []
    },
    {
      "metadata": {
        "id": "1mB1F6ppyT1Q",
        "colab_type": "code",
        "colab": {}
      },
      "cell_type": "code",
      "source": [
        ""
      ],
      "execution_count": 0,
      "outputs": []
    }
  ]
}